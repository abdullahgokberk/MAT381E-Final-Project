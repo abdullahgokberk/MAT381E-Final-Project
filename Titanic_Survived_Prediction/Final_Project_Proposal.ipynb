{
 "cells": [
  {
   "cell_type": "markdown",
   "id": "ff80568e",
   "metadata": {},
   "source": [
    "# Titanic Survival Prediction with Machine Learning\n",
    "\n",
    "## Team Members\n",
    "\n",
    "* Gökberk Abdullah (090170341)\n",
    "\n",
    "## Data Set\n",
    "\n",
    "I will use [this](https://www.kaggle.com/competitions/titanic/data?select=train.csv) data.\n",
    "\n",
    "Data contain:\n",
    "\n",
    "* PassengerId\n",
    "* Name- name of passengers\n",
    "* survival- 0 = No, 1 = Yes\n",
    "* pclass- 1 = 1st, 2 = 2nd, 3 = 3rd\n",
    "* sex- Sex of passengers\n",
    "* Age- Age in years\n",
    "* sibsp- # of siblings / spouses aboard the Titanic \n",
    "* parch- # of parents / children aboard the Titanic\n",
    "* ticket- Ticket number\n",
    "* fare- Passenger fare\n",
    "* cabin- Cabin number\n",
    "* embarked- C = Cherbourg, Q = Queenstown, S = Southampton\n",
    "\n",
    "## Description of the Problem\n",
    "\n",
    "### Project Pieces\n",
    "\n",
    "I will use machine learning to build a model that predicts which passengers survived the Titanic shipwreck. I will do all the sub-titles of data preprocessing, data analysis, data visualization and model building myself.\n",
    "\n",
    "### Hardware and Software\n",
    "\n",
    "I will use jupyter notebook. I haven't decided yet which machine learning technique I will use."
   ]
  }
 ],
 "metadata": {
  "kernelspec": {
   "display_name": "Python 3",
   "language": "python",
   "name": "python3"
  },
  "language_info": {
   "codemirror_mode": {
    "name": "ipython",
    "version": 3
   },
   "file_extension": ".py",
   "mimetype": "text/x-python",
   "name": "python",
   "nbconvert_exporter": "python",
   "pygments_lexer": "ipython3",
   "version": "3.8.8"
  }
 },
 "nbformat": 4,
 "nbformat_minor": 5
}
